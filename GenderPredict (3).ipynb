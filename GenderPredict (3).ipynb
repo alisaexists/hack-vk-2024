{
 "cells": [
  {
   "cell_type": "markdown",
   "id": "edcd6a96-e2f0-45ea-88d4-0cc11394ab07",
   "metadata": {},
   "source": [
    "## Предсказание пола/возраста по посещениям сайтов\n",
    "\n",
    "Для начала, подключим хранилище s3, содержащее исходные данные:"
   ]
  },
  {
   "cell_type": "code",
   "execution_count": 25,
   "id": "3ef00818-c3bf-4a01-ab3b-ed96f4ad32f3",
   "metadata": {
    "tags": []
   },
   "outputs": [
    {
     "name": "stdout",
     "output_type": "stream",
     "text": [
      "s3fs: MOUNTPOINT directory mnt is not empty. if you are sure this is safe, can use the 'nonempty' mount option.\n"
     ]
    }
   ],
   "source": [
    "!chmod 600 s3_passwd\n",
    "!mkdir -p mnt\n",
    "!s3fs hsevkhack mnt -o url=http://hb.vkcs.cloud -o use_path_request_style -o passwd_file=s3_passwd -o ro"
   ]
  },
  {
   "cell_type": "markdown",
   "id": "b18ac963-f688-4263-99dc-5fc0ba5d4225",
   "metadata": {
    "tags": []
   },
   "source": [
    "Убедимся, что в директории `mnt` содержатся соответствующие таблицы:"
   ]
  },
  {
   "cell_type": "code",
   "execution_count": 26,
   "id": "af0a3a60-6a01-4409-aec2-d891125a2dc2",
   "metadata": {
    "tags": []
   },
   "outputs": [
    {
     "name": "stdout",
     "output_type": "stream",
     "text": [
      "geo_dataframe.csv  requests  train_users.csv\n"
     ]
    }
   ],
   "source": [
    "!ls mnt/"
   ]
  },
  {
   "cell_type": "markdown",
   "id": "c173c190-dc10-4e36-b5dd-77197e312e08",
   "metadata": {},
   "source": [
    "Если по каким-то причинам директорию смонтировать не удалось, используйте код ниже, чтобы скачать данные к себе в локальное хранилище. В противном случае **пропустите следующую ячейку**."
   ]
  },
  {
   "cell_type": "code",
   "execution_count": 7,
   "id": "5a42c666-ce6f-4827-847d-01c95f50bc62",
   "metadata": {
    "tags": []
   },
   "outputs": [
    {
     "name": "stdout",
     "output_type": "stream",
     "text": [
      "--2024-04-20 13:38:45--  https://hsehack.hb.ru-msk.vkcs.cloud/geo_dataframe.csv\n",
      "Resolving hsehack.hb.ru-msk.vkcs.cloud (hsehack.hb.ru-msk.vkcs.cloud)... 95.163.53.117\n",
      "Connecting to hsehack.hb.ru-msk.vkcs.cloud (hsehack.hb.ru-msk.vkcs.cloud)|95.163.53.117|:443... connected.\n",
      "HTTP request sent, awaiting response... 200 OK\n",
      "Length: 63042 (62K) [text/csv]\n",
      "Saving to: ‘data/geo_dataframe.csv’\n",
      "\n",
      "geo_dataframe.csv   100%[===================>]  61.56K  --.-KB/s    in 0.003s  \n",
      "\n",
      "2024-04-20 13:38:45 (22.5 MB/s) - ‘data/geo_dataframe.csv’ saved [63042/63042]\n",
      "\n",
      "--2024-04-20 13:38:45--  https://hsehack.hb.ru-msk.vkcs.cloud/train_users.csv\n",
      "Resolving hsehack.hb.ru-msk.vkcs.cloud (hsehack.hb.ru-msk.vkcs.cloud)... 95.163.53.117\n",
      "Connecting to hsehack.hb.ru-msk.vkcs.cloud (hsehack.hb.ru-msk.vkcs.cloud)|95.163.53.117|:443... connected.\n",
      "HTTP request sent, awaiting response... 200 OK\n",
      "Length: 66826127 (64M) [text/csv]\n",
      "Saving to: ‘data/train_users.csv’\n",
      "\n",
      "train_users.csv     100%[===================>]  63.73M  41.5MB/s    in 1.5s    \n",
      "\n",
      "2024-04-20 13:38:47 (41.5 MB/s) - ‘data/train_users.csv’ saved [66826127/66826127]\n",
      "\n",
      "Downloading part 0...\n",
      "Downloading part 1...\n",
      "Downloading part 2...\n",
      "Downloading part 3...\n",
      "Downloading part 4...\n",
      "Downloading part 5...\n",
      "Downloading part 6...\n",
      "Downloading part 7...\n",
      "Downloading part 8...\n",
      "Downloading part 9...\n",
      "Downloading part 10...\n",
      "Downloading part 11...\n",
      "Downloading part 12...\n",
      "Downloading part 13...\n",
      "Downloading part 14...\n",
      "Downloading part 15...\n",
      "Downloading part 16...\n",
      "Downloading part 17...\n",
      "Downloading part 18...\n",
      "Downloading part 19...\n",
      "Downloading part 20...\n",
      "Downloading part 21...\n",
      "Downloading part 22...\n",
      "Downloading part 23...\n",
      "Downloading part 24...\n",
      "Downloading part 25...\n",
      "Downloading part 26...\n",
      "Downloading part 27...\n",
      "Downloading part 28...\n",
      "Downloading part 29...\n"
     ]
    }
   ],
   "source": [
    "import subprocess\n",
    "!mkdir -p data\n",
    "!wget https://hsehack.hb.ru-msk.vkcs.cloud/geo_dataframe.csv -P data\n",
    "!wget https://hsehack.hb.ru-msk.vkcs.cloud/train_users.csv -P data\n",
    "!mkdir -p data/requests\n",
    "for i in range(30):\n",
    "    print(f\"Downloading part {i}...\")\n",
    "    subprocess.call([\"wget\", f\"https://hsehack.hb.ru-msk.vkcs.cloud/requests/part_{i}.parquet\", \"-q\", \"-P\", \"data/requests\"])"
   ]
  },
  {
   "cell_type": "markdown",
   "id": "91eb607a-d14d-4dda-9dae-6e44e4bc80bf",
   "metadata": {},
   "source": [
    "## Загружаем данные\n",
    "\n",
    "Используем Pandas для работы с таблицами. `geo_dataframe` содержит данные о геолокации - регионе и стране."
   ]
  },
  {
   "cell_type": "code",
   "execution_count": 1,
   "id": "807c3f20-c421-4a7b-9314-ec9112984948",
   "metadata": {
    "tags": []
   },
   "outputs": [
    {
     "data": {
      "text/html": [
       "<div>\n",
       "<style scoped>\n",
       "    .dataframe tbody tr th:only-of-type {\n",
       "        vertical-align: middle;\n",
       "    }\n",
       "\n",
       "    .dataframe tbody tr th {\n",
       "        vertical-align: top;\n",
       "    }\n",
       "\n",
       "    .dataframe thead th {\n",
       "        text-align: right;\n",
       "    }\n",
       "</style>\n",
       "<table border=\"1\" class=\"dataframe\">\n",
       "  <thead>\n",
       "    <tr style=\"text-align: right;\">\n",
       "      <th></th>\n",
       "      <th>geo_id</th>\n",
       "      <th>region_id</th>\n",
       "      <th>country_id</th>\n",
       "    </tr>\n",
       "  </thead>\n",
       "  <tbody>\n",
       "    <tr>\n",
       "      <th>0</th>\n",
       "      <td>1</td>\n",
       "      <td>157</td>\n",
       "      <td>40</td>\n",
       "    </tr>\n",
       "    <tr>\n",
       "      <th>1</th>\n",
       "      <td>2</td>\n",
       "      <td>161</td>\n",
       "      <td>40</td>\n",
       "    </tr>\n",
       "    <tr>\n",
       "      <th>2</th>\n",
       "      <td>3</td>\n",
       "      <td>265</td>\n",
       "      <td>54</td>\n",
       "    </tr>\n",
       "    <tr>\n",
       "      <th>3</th>\n",
       "      <td>4</td>\n",
       "      <td>122</td>\n",
       "      <td>54</td>\n",
       "    </tr>\n",
       "    <tr>\n",
       "      <th>4</th>\n",
       "      <td>5</td>\n",
       "      <td>78</td>\n",
       "      <td>40</td>\n",
       "    </tr>\n",
       "    <tr>\n",
       "      <th>...</th>\n",
       "      <td>...</td>\n",
       "      <td>...</td>\n",
       "      <td>...</td>\n",
       "    </tr>\n",
       "    <tr>\n",
       "      <th>5528</th>\n",
       "      <td>5529</td>\n",
       "      <td>246</td>\n",
       "      <td>54</td>\n",
       "    </tr>\n",
       "    <tr>\n",
       "      <th>5529</th>\n",
       "      <td>5530</td>\n",
       "      <td>-1</td>\n",
       "      <td>63</td>\n",
       "    </tr>\n",
       "    <tr>\n",
       "      <th>5530</th>\n",
       "      <td>5531</td>\n",
       "      <td>101</td>\n",
       "      <td>40</td>\n",
       "    </tr>\n",
       "    <tr>\n",
       "      <th>5531</th>\n",
       "      <td>5532</td>\n",
       "      <td>21</td>\n",
       "      <td>68</td>\n",
       "    </tr>\n",
       "    <tr>\n",
       "      <th>5532</th>\n",
       "      <td>5533</td>\n",
       "      <td>58</td>\n",
       "      <td>40</td>\n",
       "    </tr>\n",
       "  </tbody>\n",
       "</table>\n",
       "<p>5533 rows × 3 columns</p>\n",
       "</div>"
      ],
      "text/plain": [
       "      geo_id  region_id  country_id\n",
       "0          1        157          40\n",
       "1          2        161          40\n",
       "2          3        265          54\n",
       "3          4        122          54\n",
       "4          5         78          40\n",
       "...      ...        ...         ...\n",
       "5528    5529        246          54\n",
       "5529    5530         -1          63\n",
       "5530    5531        101          40\n",
       "5531    5532         21          68\n",
       "5532    5533         58          40\n",
       "\n",
       "[5533 rows x 3 columns]"
      ]
     },
     "execution_count": 1,
     "metadata": {},
     "output_type": "execute_result"
    }
   ],
   "source": [
    "import pandas as pd\n",
    "\n",
    "geo = pd.read_csv('mnt/geo_dataframe.csv')\n",
    "geo"
   ]
  },
  {
   "cell_type": "markdown",
   "id": "72b5ecce-e866-4e01-a2dd-1d26cd7452d9",
   "metadata": {},
   "source": [
    "Таблица `train_users` - это ваша обучающая выборка, содержащая пол и возраст пользователей. Аналогичная таблица для тестового датасета будет вам предоставлена за час до stop coding."
   ]
  },
  {
   "cell_type": "code",
   "execution_count": 2,
   "id": "d985e0cf-3d53-41d7-a004-2d081cb6573d",
   "metadata": {
    "tags": []
   },
   "outputs": [
    {
     "data": {
      "text/html": [
       "<div>\n",
       "<style scoped>\n",
       "    .dataframe tbody tr th:only-of-type {\n",
       "        vertical-align: middle;\n",
       "    }\n",
       "\n",
       "    .dataframe tbody tr th {\n",
       "        vertical-align: top;\n",
       "    }\n",
       "\n",
       "    .dataframe thead th {\n",
       "        text-align: right;\n",
       "    }\n",
       "</style>\n",
       "<table border=\"1\" class=\"dataframe\">\n",
       "  <thead>\n",
       "    <tr style=\"text-align: right;\">\n",
       "      <th></th>\n",
       "      <th>user_id</th>\n",
       "      <th>gender</th>\n",
       "      <th>age</th>\n",
       "    </tr>\n",
       "  </thead>\n",
       "  <tbody>\n",
       "    <tr>\n",
       "      <th>0</th>\n",
       "      <td>2</td>\n",
       "      <td>1</td>\n",
       "      <td>61</td>\n",
       "    </tr>\n",
       "    <tr>\n",
       "      <th>1</th>\n",
       "      <td>3</td>\n",
       "      <td>1</td>\n",
       "      <td>55</td>\n",
       "    </tr>\n",
       "    <tr>\n",
       "      <th>2</th>\n",
       "      <td>6</td>\n",
       "      <td>0</td>\n",
       "      <td>46</td>\n",
       "    </tr>\n",
       "    <tr>\n",
       "      <th>3</th>\n",
       "      <td>14</td>\n",
       "      <td>0</td>\n",
       "      <td>66</td>\n",
       "    </tr>\n",
       "    <tr>\n",
       "      <th>4</th>\n",
       "      <td>17</td>\n",
       "      <td>0</td>\n",
       "      <td>53</td>\n",
       "    </tr>\n",
       "    <tr>\n",
       "      <th>...</th>\n",
       "      <td>...</td>\n",
       "      <td>...</td>\n",
       "      <td>...</td>\n",
       "    </tr>\n",
       "    <tr>\n",
       "      <th>4999995</th>\n",
       "      <td>17588859</td>\n",
       "      <td>1</td>\n",
       "      <td>64</td>\n",
       "    </tr>\n",
       "    <tr>\n",
       "      <th>4999996</th>\n",
       "      <td>17588860</td>\n",
       "      <td>0</td>\n",
       "      <td>69</td>\n",
       "    </tr>\n",
       "    <tr>\n",
       "      <th>4999997</th>\n",
       "      <td>17588861</td>\n",
       "      <td>1</td>\n",
       "      <td>51</td>\n",
       "    </tr>\n",
       "    <tr>\n",
       "      <th>4999998</th>\n",
       "      <td>17588864</td>\n",
       "      <td>0</td>\n",
       "      <td>30</td>\n",
       "    </tr>\n",
       "    <tr>\n",
       "      <th>4999999</th>\n",
       "      <td>17588865</td>\n",
       "      <td>0</td>\n",
       "      <td>38</td>\n",
       "    </tr>\n",
       "  </tbody>\n",
       "</table>\n",
       "<p>5000000 rows × 3 columns</p>\n",
       "</div>"
      ],
      "text/plain": [
       "          user_id  gender  age\n",
       "0               2       1   61\n",
       "1               3       1   55\n",
       "2               6       0   46\n",
       "3              14       0   66\n",
       "4              17       0   53\n",
       "...           ...     ...  ...\n",
       "4999995  17588859       1   64\n",
       "4999996  17588860       0   69\n",
       "4999997  17588861       1   51\n",
       "4999998  17588864       0   30\n",
       "4999999  17588865       0   38\n",
       "\n",
       "[5000000 rows x 3 columns]"
      ]
     },
     "execution_count": 2,
     "metadata": {},
     "output_type": "execute_result"
    }
   ],
   "source": [
    "users = pd.read_csv('mnt/train_users.csv')\n",
    "users"
   ]
  },
  {
   "cell_type": "markdown",
   "id": "45812919-7ca9-4a01-8067-2a3d9ee2c96f",
   "metadata": {
    "tags": []
   },
   "source": [
    "Для примера - вот распределение пользователей по полу:"
   ]
  },
  {
   "cell_type": "code",
   "execution_count": 11,
   "id": "f2b0c5ce-cc19-463c-813b-7372f6b6a2df",
   "metadata": {
    "tags": []
   },
   "outputs": [
    {
     "data": {
      "text/plain": [
       "<AxesSubplot: xlabel='gender'>"
      ]
     },
     "execution_count": 11,
     "metadata": {},
     "output_type": "execute_result"
    },
    {
     "data": {
      "image/png": "[encoded data removed]",
      "text/plain": [
       "<Figure size 640x480 with 1 Axes>"
      ]
     },
     "metadata": {},
     "output_type": "display_data"
    }
   ],
   "source": [
    "users.groupby('gender').agg({ 'user_id' : len }).plot.bar()"
   ]
  },
  {
   "cell_type": "markdown",
   "id": "095a63d9-9ed2-40da-9206-26a9a6c71489",
   "metadata": {},
   "source": [
    "Основные данные о посещениях пользователями сайтов содержатся в табличке `requests`, представленной в формате parquet. Вы можете загрузить только одну часть таблички, или же всю таблицу, если она поместиться в памяти:"
   ]
  },
  {
   "cell_type": "code",
   "execution_count": null,
   "id": "6ff825ea-a926-4e89-ad09-a4c8181b216b",
   "metadata": {},
   "outputs": [],
   "source": []
  },
  {
   "cell_type": "code",
   "execution_count": 3,
   "id": "9e14f322-ec99-4c14-8e1a-ec373f767a9e",
   "metadata": {
    "tags": []
   },
   "outputs": [
    {
     "data": {
      "text/html": [
       "<div>\n",
       "<style scoped>\n",
       "    .dataframe tbody tr th:only-of-type {\n",
       "        vertical-align: middle;\n",
       "    }\n",
       "\n",
       "    .dataframe tbody tr th {\n",
       "        vertical-align: top;\n",
       "    }\n",
       "\n",
       "    .dataframe thead th {\n",
       "        text-align: right;\n",
       "    }\n",
       "</style>\n",
       "<table border=\"1\" class=\"dataframe\">\n",
       "  <thead>\n",
       "    <tr style=\"text-align: right;\">\n",
       "      <th></th>\n",
       "      <th>timestamp</th>\n",
       "      <th>geo_id</th>\n",
       "      <th>referer</th>\n",
       "      <th>user_id</th>\n",
       "      <th>user_agent</th>\n",
       "    </tr>\n",
       "  </thead>\n",
       "  <tbody>\n",
       "    <tr>\n",
       "      <th>0</th>\n",
       "      <td>1712169477</td>\n",
       "      <td>1224</td>\n",
       "      <td>https://www.domain_1118/path_107938</td>\n",
       "      <td>1628092</td>\n",
       "      <td>Mozilla/5.0 (Linux; Android 10; K) AppleWebKit...</td>\n",
       "    </tr>\n",
       "    <tr>\n",
       "      <th>1</th>\n",
       "      <td>1711945301</td>\n",
       "      <td>2540</td>\n",
       "      <td>https://domain_3207/path_175610</td>\n",
       "      <td>1013613</td>\n",
       "      <td>Mozilla/5.0 (Linux; Android 8.1.0; Redmi 5 Plu...</td>\n",
       "    </tr>\n",
       "    <tr>\n",
       "      <th>2</th>\n",
       "      <td>1712154596</td>\n",
       "      <td>4402</td>\n",
       "      <td>https://domain_2194/path_172150</td>\n",
       "      <td>8274161</td>\n",
       "      <td>Mozilla/5.0 (Windows NT 10.0; Win64; x64) Appl...</td>\n",
       "    </tr>\n",
       "    <tr>\n",
       "      <th>3</th>\n",
       "      <td>1711941903</td>\n",
       "      <td>3833</td>\n",
       "      <td>https://domain_2042/path_144480</td>\n",
       "      <td>17082498</td>\n",
       "      <td>Mozilla/5.0 (Windows NT 10.0; Win64; x64) Appl...</td>\n",
       "    </tr>\n",
       "    <tr>\n",
       "      <th>4</th>\n",
       "      <td>1712088484</td>\n",
       "      <td>3866</td>\n",
       "      <td>https://domain_3191/path_9105</td>\n",
       "      <td>12787875</td>\n",
       "      <td>Mozilla/5.0 (Windows NT 10.0; Win64; x64) Appl...</td>\n",
       "    </tr>\n",
       "    <tr>\n",
       "      <th>...</th>\n",
       "      <td>...</td>\n",
       "      <td>...</td>\n",
       "      <td>...</td>\n",
       "      <td>...</td>\n",
       "      <td>...</td>\n",
       "    </tr>\n",
       "    <tr>\n",
       "      <th>10000449</th>\n",
       "      <td>1712161101</td>\n",
       "      <td>702</td>\n",
       "      <td>https://domain_662/path_131980</td>\n",
       "      <td>2062442</td>\n",
       "      <td>Mozilla/5.0 (X11; Linux x86_64) AppleWebKit/53...</td>\n",
       "    </tr>\n",
       "    <tr>\n",
       "      <th>10000450</th>\n",
       "      <td>1711940706</td>\n",
       "      <td>3515</td>\n",
       "      <td>https://domain_1784/path_45033</td>\n",
       "      <td>2375719</td>\n",
       "      <td>Mozilla/5.0 (Linux; Android 10; K) AppleWebKit...</td>\n",
       "    </tr>\n",
       "    <tr>\n",
       "      <th>10000451</th>\n",
       "      <td>1712107755</td>\n",
       "      <td>3173</td>\n",
       "      <td>https://domain_1654/path_48166</td>\n",
       "      <td>11781572</td>\n",
       "      <td>Mozilla/5.0 (Linux; arm_64; Android 13; SM-A14...</td>\n",
       "    </tr>\n",
       "    <tr>\n",
       "      <th>10000452</th>\n",
       "      <td>1712107427</td>\n",
       "      <td>3833</td>\n",
       "      <td>https://domain_1654/path_10504</td>\n",
       "      <td>15183751</td>\n",
       "      <td>Mozilla/5.0 (Linux; arm_64; Android 12; SM-M21...</td>\n",
       "    </tr>\n",
       "    <tr>\n",
       "      <th>10000453</th>\n",
       "      <td>1712034201</td>\n",
       "      <td>964</td>\n",
       "      <td>https://www.domain_1605/path_166938</td>\n",
       "      <td>6247888</td>\n",
       "      <td>Mozilla/5.0 (Linux; Android 10; K) AppleWebKit...</td>\n",
       "    </tr>\n",
       "  </tbody>\n",
       "</table>\n",
       "<p>10000454 rows × 5 columns</p>\n",
       "</div>"
      ],
      "text/plain": [
       "           timestamp  geo_id                              referer   user_id  \\\n",
       "0         1712169477    1224  https://www.domain_1118/path_107938   1628092   \n",
       "1         1711945301    2540      https://domain_3207/path_175610   1013613   \n",
       "2         1712154596    4402      https://domain_2194/path_172150   8274161   \n",
       "3         1711941903    3833      https://domain_2042/path_144480  17082498   \n",
       "4         1712088484    3866        https://domain_3191/path_9105  12787875   \n",
       "...              ...     ...                                  ...       ...   \n",
       "10000449  1712161101     702       https://domain_662/path_131980   2062442   \n",
       "10000450  1711940706    3515       https://domain_1784/path_45033   2375719   \n",
       "10000451  1712107755    3173       https://domain_1654/path_48166  11781572   \n",
       "10000452  1712107427    3833       https://domain_1654/path_10504  15183751   \n",
       "10000453  1712034201     964  https://www.domain_1605/path_166938   6247888   \n",
       "\n",
       "                                                 user_agent  \n",
       "0         Mozilla/5.0 (Linux; Android 10; K) AppleWebKit...  \n",
       "1         Mozilla/5.0 (Linux; Android 8.1.0; Redmi 5 Plu...  \n",
       "2         Mozilla/5.0 (Windows NT 10.0; Win64; x64) Appl...  \n",
       "3         Mozilla/5.0 (Windows NT 10.0; Win64; x64) Appl...  \n",
       "4         Mozilla/5.0 (Windows NT 10.0; Win64; x64) Appl...  \n",
       "...                                                     ...  \n",
       "10000449  Mozilla/5.0 (X11; Linux x86_64) AppleWebKit/53...  \n",
       "10000450  Mozilla/5.0 (Linux; Android 10; K) AppleWebKit...  \n",
       "10000451  Mozilla/5.0 (Linux; arm_64; Android 13; SM-A14...  \n",
       "10000452  Mozilla/5.0 (Linux; arm_64; Android 12; SM-M21...  \n",
       "10000453  Mozilla/5.0 (Linux; Android 10; K) AppleWebKit...  \n",
       "\n",
       "[10000454 rows x 5 columns]"
      ]
     },
     "execution_count": 3,
     "metadata": {},
     "output_type": "execute_result"
    }
   ],
   "source": [
    "req1 = pd.read_parquet('mnt/requests/part_0.parquet')\n",
    "req1"
   ]
  },
  {
   "cell_type": "code",
   "execution_count": 87,
   "id": "e6c15609-271c-4cb7-9f91-2c0cf3d7e0a1",
   "metadata": {
    "tags": []
   },
   "outputs": [
    {
     "name": "stdout",
     "output_type": "stream",
     "text": [
      "50002270\n",
      "50002270\n"
     ]
    }
   ],
   "source": [
    "import pandas as pd\n",
    "import numpy as np\n",
    "# удаляем строки с пропущенными значениями\n",
    "df_cleaned = req1.dropna()\n",
    "print(df_cleaned.size)\n",
    "print(req1.size)"
   ]
  },
  {
   "cell_type": "code",
   "execution_count": 78,
   "id": "32e7dc8d-491e-4822-9abc-98f9eea483fb",
   "metadata": {
    "tags": []
   },
   "outputs": [
    {
     "name": "stdout",
     "output_type": "stream",
     "text": [
      "Defaulting to user installation because normal site-packages is not writeable\n",
      "Collecting seaborn\n",
      "  Downloading seaborn-0.13.2-py3-none-any.whl (294 kB)\n",
      "     |████████████████████████████████| 294 kB 1.1 MB/s            \n",
      "\u001b[?25hRequirement already satisfied: numpy!=1.24.0,>=1.20 in /opt/tljh/user/lib/python3.9/site-packages (from seaborn) (1.26.4)\n",
      "Requirement already satisfied: pandas>=1.2 in /opt/tljh/user/lib/python3.9/site-packages (from seaborn) (1.5.0)\n",
      "Requirement already satisfied: matplotlib!=3.6.1,>=3.4 in /opt/tljh/user/lib/python3.9/site-packages (from seaborn) (3.6.2)\n",
      "Requirement already satisfied: pillow>=6.2.0 in /opt/tljh/user/lib/python3.9/site-packages (from matplotlib!=3.6.1,>=3.4->seaborn) (10.2.0)\n",
      "Requirement already satisfied: contourpy>=1.0.1 in /opt/tljh/user/lib/python3.9/site-packages (from matplotlib!=3.6.1,>=3.4->seaborn) (1.2.0)\n",
      "Requirement already satisfied: python-dateutil>=2.7 in /opt/tljh/user/lib/python3.9/site-packages (from matplotlib!=3.6.1,>=3.4->seaborn) (2.9.0.post0)\n",
      "Requirement already satisfied: kiwisolver>=1.0.1 in /opt/tljh/user/lib/python3.9/site-packages (from matplotlib!=3.6.1,>=3.4->seaborn) (1.4.5)\n",
      "Requirement already satisfied: fonttools>=4.22.0 in /opt/tljh/user/lib/python3.9/site-packages (from matplotlib!=3.6.1,>=3.4->seaborn) (4.49.0)\n",
      "Requirement already satisfied: packaging>=20.0 in /opt/tljh/user/lib/python3.9/site-packages (from matplotlib!=3.6.1,>=3.4->seaborn) (22.0)\n",
      "Requirement already satisfied: pyparsing>=2.2.1 in /opt/tljh/user/lib/python3.9/site-packages (from matplotlib!=3.6.1,>=3.4->seaborn) (3.1.2)\n",
      "Requirement already satisfied: cycler>=0.10 in /opt/tljh/user/lib/python3.9/site-packages (from matplotlib!=3.6.1,>=3.4->seaborn) (0.12.1)\n",
      "Requirement already satisfied: pytz>=2020.1 in /opt/tljh/user/lib/python3.9/site-packages (from pandas>=1.2->seaborn) (2023.3)\n",
      "Requirement already satisfied: six>=1.5 in /opt/tljh/user/lib/python3.9/site-packages (from python-dateutil>=2.7->matplotlib!=3.6.1,>=3.4->seaborn) (1.16.0)\n",
      "Installing collected packages: seaborn\n",
      "Successfully installed seaborn-0.13.2\n",
      "Note: you may need to restart the kernel to use updated packages.\n"
     ]
    }
   ],
   "source": [
    "pip install seaborn"
   ]
  },
  {
   "cell_type": "code",
   "execution_count": null,
   "id": "65c03cbb-e65b-4f55-b214-7cf38d68122d",
   "metadata": {},
   "outputs": [],
   "source": []
  },
  {
   "cell_type": "markdown",
   "id": "9e5882f5-ea2b-489d-8e71-a68e15038ae7",
   "metadata": {},
   "source": [
    "## Дерзайте!\n",
    "\n",
    "Вам необходимо построить предсказательную модель для прогнозирования пола и возраста пользователей по их посещениям. Таблица с тестовыми пользователями будет предоставлена вам за час до stop coding.\n",
    "\n",
    "ВАЖНО:\n",
    "* Таблицу с тестовыми данными нельзя использовать для обучения модели. Если жюри увидит, что вы использовали табличку с тестовыми данными - точность модели будет оцениваться в 0 баллов.\n",
    "* В ходе выступления необходимо продемонстрировать точность модели на тестовых данных."
   ]
  },
  {
   "cell_type": "code",
   "execution_count": 4,
   "id": "406b5898-df6a-492f-af62-9323723a9672",
   "metadata": {
    "tags": []
   },
   "outputs": [
    {
     "data": {
      "text/html": [
       "<div>\n",
       "<style scoped>\n",
       "    .dataframe tbody tr th:only-of-type {\n",
       "        vertical-align: middle;\n",
       "    }\n",
       "\n",
       "    .dataframe tbody tr th {\n",
       "        vertical-align: top;\n",
       "    }\n",
       "\n",
       "    .dataframe thead th {\n",
       "        text-align: right;\n",
       "    }\n",
       "</style>\n",
       "<table border=\"1\" class=\"dataframe\">\n",
       "  <thead>\n",
       "    <tr style=\"text-align: right;\">\n",
       "      <th></th>\n",
       "      <th>timestamp</th>\n",
       "      <th>geo_id</th>\n",
       "      <th>referer</th>\n",
       "      <th>user_id</th>\n",
       "      <th>user_agent</th>\n",
       "      <th>gender</th>\n",
       "      <th>age</th>\n",
       "      <th>region_id</th>\n",
       "      <th>country_id</th>\n",
       "    </tr>\n",
       "  </thead>\n",
       "  <tbody>\n",
       "    <tr>\n",
       "      <th>0</th>\n",
       "      <td>1711945301</td>\n",
       "      <td>2540</td>\n",
       "      <td>https://domain_3207/path_175610</td>\n",
       "      <td>1013613</td>\n",
       "      <td>Mozilla/5.0 (Linux; Android 8.1.0; Redmi 5 Plu...</td>\n",
       "      <td>1</td>\n",
       "      <td>75</td>\n",
       "      <td>135</td>\n",
       "      <td>199</td>\n",
       "    </tr>\n",
       "    <tr>\n",
       "      <th>1</th>\n",
       "      <td>1711972560</td>\n",
       "      <td>2540</td>\n",
       "      <td>https://domain_207/path_159182</td>\n",
       "      <td>1013613</td>\n",
       "      <td>Mozilla/5.0 (Linux; Android 8.1.0; Redmi 5 Plu...</td>\n",
       "      <td>1</td>\n",
       "      <td>75</td>\n",
       "      <td>135</td>\n",
       "      <td>199</td>\n",
       "    </tr>\n",
       "    <tr>\n",
       "      <th>2</th>\n",
       "      <td>1711954939</td>\n",
       "      <td>2540</td>\n",
       "      <td>https://domain_698/path_130576</td>\n",
       "      <td>1013613</td>\n",
       "      <td>Mozilla/5.0 (Linux; Android 8.1.0; Redmi 5 Plu...</td>\n",
       "      <td>1</td>\n",
       "      <td>75</td>\n",
       "      <td>135</td>\n",
       "      <td>199</td>\n",
       "    </tr>\n",
       "    <tr>\n",
       "      <th>3</th>\n",
       "      <td>1711988377</td>\n",
       "      <td>2540</td>\n",
       "      <td>https://domain_551/path_118633</td>\n",
       "      <td>4005154</td>\n",
       "      <td>Mozilla/5.0 (Linux; Android 11; M2102J20SG) Ap...</td>\n",
       "      <td>0</td>\n",
       "      <td>51</td>\n",
       "      <td>135</td>\n",
       "      <td>199</td>\n",
       "    </tr>\n",
       "    <tr>\n",
       "      <th>4</th>\n",
       "      <td>1711954815</td>\n",
       "      <td>2540</td>\n",
       "      <td>https://domain_551/path_175610</td>\n",
       "      <td>16503401</td>\n",
       "      <td>Mozilla/5.0 (Linux; Android 10; K) AppleWebKit...</td>\n",
       "      <td>0</td>\n",
       "      <td>71</td>\n",
       "      <td>135</td>\n",
       "      <td>199</td>\n",
       "    </tr>\n",
       "  </tbody>\n",
       "</table>\n",
       "</div>"
      ],
      "text/plain": [
       "    timestamp  geo_id                          referer   user_id  \\\n",
       "0  1711945301    2540  https://domain_3207/path_175610   1013613   \n",
       "1  1711972560    2540   https://domain_207/path_159182   1013613   \n",
       "2  1711954939    2540   https://domain_698/path_130576   1013613   \n",
       "3  1711988377    2540   https://domain_551/path_118633   4005154   \n",
       "4  1711954815    2540   https://domain_551/path_175610  16503401   \n",
       "\n",
       "                                          user_agent  gender  age  region_id  \\\n",
       "0  Mozilla/5.0 (Linux; Android 8.1.0; Redmi 5 Plu...       1   75        135   \n",
       "1  Mozilla/5.0 (Linux; Android 8.1.0; Redmi 5 Plu...       1   75        135   \n",
       "2  Mozilla/5.0 (Linux; Android 8.1.0; Redmi 5 Plu...       1   75        135   \n",
       "3  Mozilla/5.0 (Linux; Android 11; M2102J20SG) Ap...       0   51        135   \n",
       "4  Mozilla/5.0 (Linux; Android 10; K) AppleWebKit...       0   71        135   \n",
       "\n",
       "   country_id  \n",
       "0         199  \n",
       "1         199  \n",
       "2         199  \n",
       "3         199  \n",
       "4         199  "
      ]
     },
     "execution_count": 4,
     "metadata": {},
     "output_type": "execute_result"
    }
   ],
   "source": [
    "full_data = req1\n",
    "full_data = full_data.merge(users, on='user_id')\n",
    "full_data = full_data.merge(geo, on='geo_id')\n",
    "full_data.head()"
   ]
  },
  {
   "cell_type": "code",
   "execution_count": 45,
   "id": "cb3ff533-3804-419c-9207-a90ff740455a",
   "metadata": {
    "tags": []
   },
   "outputs": [],
   "source": [
    "from user_agents import parse\n",
    "\n",
    "browser = {}\n",
    "os = {}\n",
    "device ={}\n",
    "referer = {}\n",
    "cnt_browser = 0\n",
    "cnt_device = 0\n",
    "cnt_os = 0\n",
    "cnt_referer = 0\n",
    "\n",
    "d = {}\n",
    "d['browser_id'] = []\n",
    "d['os_id'] = []\n",
    "d['device_id'] = []\n",
    "d['ref_id'] = []\n",
    "\n",
    "\n",
    "for index, row in full_data.iterrows():\n",
    "    user_agent = parse(row['user_agent'])\n",
    "    str_browser = str(user_agent.browser)\n",
    "    str_device = str(user_agent.device)\n",
    "    str_os = str(user_agent.os)\n",
    "    str_referer = row['referer']\n",
    "    \n",
    "    if str_browser in browser:\n",
    "        d['browser_id'].append(browser[str_browser])\n",
    "    else:\n",
    "        browser[str_browser] = cnt_browser\n",
    "        d['browser_id'].append(cnt_browser)\n",
    "        cnt_browser += 1\n",
    "        \n",
    "        \n",
    "    if str_os in os:\n",
    "        d['os_id'].append(os[str_os])\n",
    "        \n",
    "    else:\n",
    "        os[str_os] = cnt_os\n",
    "        d['os_id'].append(cnt_os)\n",
    "        cnt_os += 1\n",
    "        \n",
    "    if str_device in device:\n",
    "        d['device_id'].append(device[str_device])\n",
    "    else:\n",
    "        device[str_device] = cnt_device\n",
    "        d['device_id'].append(cnt_device)\n",
    "        cnt_device += 1\n",
    "    if str_referer  in referer:\n",
    "        d['ref_id'].append(referer[row['referer']])\n",
    "    else:\n",
    "        referer[str_referer] = cnt_referer\n",
    "        d['ref_id'].append(cnt_referer)\n",
    "        cnt_referer += 1\n",
    "\n",
    "df = pd.DataFrame.from_dict(d)\n"
   ]
  },
  {
   "cell_type": "code",
   "execution_count": 121,
   "id": "f4cca1bd-bcdb-49da-843e-9bb698e7c66f",
   "metadata": {
    "tags": []
   },
   "outputs": [
    {
     "data": {
      "text/plain": [
       "254891"
      ]
     },
     "execution_count": 121,
     "metadata": {},
     "output_type": "execute_result"
    }
   ],
   "source": [
    "data[(data['referer'] == '')].size"
   ]
  },
  {
   "cell_type": "code",
   "execution_count": 124,
   "id": "a99c3e90-85ba-498c-81c4-728adb8ab787",
   "metadata": {
    "tags": []
   },
   "outputs": [
    {
     "data": {
      "text/html": [
       "<div>\n",
       "<style scoped>\n",
       "    .dataframe tbody tr th:only-of-type {\n",
       "        vertical-align: middle;\n",
       "    }\n",
       "\n",
       "    .dataframe tbody tr th {\n",
       "        vertical-align: top;\n",
       "    }\n",
       "\n",
       "    .dataframe thead th {\n",
       "        text-align: right;\n",
       "    }\n",
       "</style>\n",
       "<table border=\"1\" class=\"dataframe\">\n",
       "  <thead>\n",
       "    <tr style=\"text-align: right;\">\n",
       "      <th></th>\n",
       "      <th>timestamp</th>\n",
       "      <th>geo_id</th>\n",
       "      <th>referer</th>\n",
       "      <th>user_id</th>\n",
       "      <th>user_agent</th>\n",
       "      <th>gender</th>\n",
       "      <th>age</th>\n",
       "      <th>region_id</th>\n",
       "      <th>country_id</th>\n",
       "      <th>browser_id</th>\n",
       "      <th>os_id</th>\n",
       "      <th>device_id</th>\n",
       "      <th>ref_id</th>\n",
       "    </tr>\n",
       "  </thead>\n",
       "  <tbody>\n",
       "    <tr>\n",
       "      <th>0</th>\n",
       "      <td>1711945301</td>\n",
       "      <td>2540</td>\n",
       "      <td>0</td>\n",
       "      <td>1013613</td>\n",
       "      <td>Mozilla/5.0 (Linux; Android 8.1.0; Redmi 5 Plu...</td>\n",
       "      <td>1</td>\n",
       "      <td>75</td>\n",
       "      <td>135</td>\n",
       "      <td>199</td>\n",
       "      <td>0</td>\n",
       "      <td>0</td>\n",
       "      <td>0</td>\n",
       "      <td>0</td>\n",
       "    </tr>\n",
       "    <tr>\n",
       "      <th>1</th>\n",
       "      <td>1711972560</td>\n",
       "      <td>2540</td>\n",
       "      <td>1</td>\n",
       "      <td>1013613</td>\n",
       "      <td>Mozilla/5.0 (Linux; Android 8.1.0; Redmi 5 Plu...</td>\n",
       "      <td>1</td>\n",
       "      <td>75</td>\n",
       "      <td>135</td>\n",
       "      <td>199</td>\n",
       "      <td>0</td>\n",
       "      <td>0</td>\n",
       "      <td>0</td>\n",
       "      <td>1</td>\n",
       "    </tr>\n",
       "    <tr>\n",
       "      <th>2</th>\n",
       "      <td>1711954939</td>\n",
       "      <td>2540</td>\n",
       "      <td>2</td>\n",
       "      <td>1013613</td>\n",
       "      <td>Mozilla/5.0 (Linux; Android 8.1.0; Redmi 5 Plu...</td>\n",
       "      <td>1</td>\n",
       "      <td>75</td>\n",
       "      <td>135</td>\n",
       "      <td>199</td>\n",
       "      <td>0</td>\n",
       "      <td>0</td>\n",
       "      <td>0</td>\n",
       "      <td>2</td>\n",
       "    </tr>\n",
       "    <tr>\n",
       "      <th>3</th>\n",
       "      <td>1711988377</td>\n",
       "      <td>2540</td>\n",
       "      <td>3</td>\n",
       "      <td>4005154</td>\n",
       "      <td>Mozilla/5.0 (Linux; Android 11; M2102J20SG) Ap...</td>\n",
       "      <td>0</td>\n",
       "      <td>51</td>\n",
       "      <td>135</td>\n",
       "      <td>199</td>\n",
       "      <td>1</td>\n",
       "      <td>1</td>\n",
       "      <td>1</td>\n",
       "      <td>3</td>\n",
       "    </tr>\n",
       "    <tr>\n",
       "      <th>4</th>\n",
       "      <td>1711954815</td>\n",
       "      <td>2540</td>\n",
       "      <td>4</td>\n",
       "      <td>16503401</td>\n",
       "      <td>Mozilla/5.0 (Linux; Android 10; K) AppleWebKit...</td>\n",
       "      <td>0</td>\n",
       "      <td>71</td>\n",
       "      <td>135</td>\n",
       "      <td>199</td>\n",
       "      <td>2</td>\n",
       "      <td>2</td>\n",
       "      <td>2</td>\n",
       "      <td>4</td>\n",
       "    </tr>\n",
       "    <tr>\n",
       "      <th>...</th>\n",
       "      <td>...</td>\n",
       "      <td>...</td>\n",
       "      <td>...</td>\n",
       "      <td>...</td>\n",
       "      <td>...</td>\n",
       "      <td>...</td>\n",
       "      <td>...</td>\n",
       "      <td>...</td>\n",
       "      <td>...</td>\n",
       "      <td>...</td>\n",
       "      <td>...</td>\n",
       "      <td>...</td>\n",
       "      <td>...</td>\n",
       "    </tr>\n",
       "    <tr>\n",
       "      <th>4661102</th>\n",
       "      <td>1712123734</td>\n",
       "      <td>1045</td>\n",
       "      <td>https://domain_2238/path_175610</td>\n",
       "      <td>8953872</td>\n",
       "      <td>Mozilla/5.0 (Linux; arm_64; Android 13; 220111...</td>\n",
       "      <td>0</td>\n",
       "      <td>42</td>\n",
       "      <td>271</td>\n",
       "      <td>40</td>\n",
       "      <td>64</td>\n",
       "      <td>4</td>\n",
       "      <td>143</td>\n",
       "      <td>40</td>\n",
       "    </tr>\n",
       "    <tr>\n",
       "      <th>4661103</th>\n",
       "      <td>1711951088</td>\n",
       "      <td>1045</td>\n",
       "      <td>https://domain_2238/path_175610</td>\n",
       "      <td>8953872</td>\n",
       "      <td>Mozilla/5.0 (Linux; arm_64; Android 13; 220111...</td>\n",
       "      <td>0</td>\n",
       "      <td>42</td>\n",
       "      <td>271</td>\n",
       "      <td>40</td>\n",
       "      <td>64</td>\n",
       "      <td>4</td>\n",
       "      <td>143</td>\n",
       "      <td>40</td>\n",
       "    </tr>\n",
       "    <tr>\n",
       "      <th>4661104</th>\n",
       "      <td>1712028514</td>\n",
       "      <td>40</td>\n",
       "      <td>https://domain_2194/path_117211</td>\n",
       "      <td>7184373</td>\n",
       "      <td>Mozilla/5.0 (Windows NT 10.0; Win64; x64) Appl...</td>\n",
       "      <td>1</td>\n",
       "      <td>63</td>\n",
       "      <td>140</td>\n",
       "      <td>40</td>\n",
       "      <td>3</td>\n",
       "      <td>3</td>\n",
       "      <td>3</td>\n",
       "      <td>39</td>\n",
       "    </tr>\n",
       "    <tr>\n",
       "      <th>4661105</th>\n",
       "      <td>1712163962</td>\n",
       "      <td>2176</td>\n",
       "      <td>https://domain_2042/path_79235</td>\n",
       "      <td>6972857</td>\n",
       "      <td>Mozilla/5.0 (Windows NT 10.0; Win64; x64) Appl...</td>\n",
       "      <td>1</td>\n",
       "      <td>40</td>\n",
       "      <td>-1</td>\n",
       "      <td>27</td>\n",
       "      <td>4</td>\n",
       "      <td>3</td>\n",
       "      <td>3</td>\n",
       "      <td>2249</td>\n",
       "    </tr>\n",
       "    <tr>\n",
       "      <th>4661106</th>\n",
       "      <td>1712063993</td>\n",
       "      <td>4759</td>\n",
       "      <td>https://domain_77/path_17465</td>\n",
       "      <td>12088150</td>\n",
       "      <td>Mozilla/5.0 (Linux; Android 10; K) AppleWebKit...</td>\n",
       "      <td>0</td>\n",
       "      <td>60</td>\n",
       "      <td>-1</td>\n",
       "      <td>20</td>\n",
       "      <td>2</td>\n",
       "      <td>2</td>\n",
       "      <td>2</td>\n",
       "      <td>20283</td>\n",
       "    </tr>\n",
       "  </tbody>\n",
       "</table>\n",
       "<p>4661107 rows × 13 columns</p>\n",
       "</div>"
      ],
      "text/plain": [
       "          timestamp  geo_id                          referer   user_id  \\\n",
       "0        1711945301    2540                                0   1013613   \n",
       "1        1711972560    2540                                1   1013613   \n",
       "2        1711954939    2540                                2   1013613   \n",
       "3        1711988377    2540                                3   4005154   \n",
       "4        1711954815    2540                                4  16503401   \n",
       "...             ...     ...                              ...       ...   \n",
       "4661102  1712123734    1045  https://domain_2238/path_175610   8953872   \n",
       "4661103  1711951088    1045  https://domain_2238/path_175610   8953872   \n",
       "4661104  1712028514      40  https://domain_2194/path_117211   7184373   \n",
       "4661105  1712163962    2176   https://domain_2042/path_79235   6972857   \n",
       "4661106  1712063993    4759     https://domain_77/path_17465  12088150   \n",
       "\n",
       "                                                user_agent  gender  age  \\\n",
       "0        Mozilla/5.0 (Linux; Android 8.1.0; Redmi 5 Plu...       1   75   \n",
       "1        Mozilla/5.0 (Linux; Android 8.1.0; Redmi 5 Plu...       1   75   \n",
       "2        Mozilla/5.0 (Linux; Android 8.1.0; Redmi 5 Plu...       1   75   \n",
       "3        Mozilla/5.0 (Linux; Android 11; M2102J20SG) Ap...       0   51   \n",
       "4        Mozilla/5.0 (Linux; Android 10; K) AppleWebKit...       0   71   \n",
       "...                                                    ...     ...  ...   \n",
       "4661102  Mozilla/5.0 (Linux; arm_64; Android 13; 220111...       0   42   \n",
       "4661103  Mozilla/5.0 (Linux; arm_64; Android 13; 220111...       0   42   \n",
       "4661104  Mozilla/5.0 (Windows NT 10.0; Win64; x64) Appl...       1   63   \n",
       "4661105  Mozilla/5.0 (Windows NT 10.0; Win64; x64) Appl...       1   40   \n",
       "4661106  Mozilla/5.0 (Linux; Android 10; K) AppleWebKit...       0   60   \n",
       "\n",
       "         region_id  country_id  browser_id  os_id  device_id  ref_id  \n",
       "0              135         199           0      0          0       0  \n",
       "1              135         199           0      0          0       1  \n",
       "2              135         199           0      0          0       2  \n",
       "3              135         199           1      1          1       3  \n",
       "4              135         199           2      2          2       4  \n",
       "...            ...         ...         ...    ...        ...     ...  \n",
       "4661102        271          40          64      4        143      40  \n",
       "4661103        271          40          64      4        143      40  \n",
       "4661104        140          40           3      3          3      39  \n",
       "4661105         -1          27           4      3          3    2249  \n",
       "4661106         -1          20           2      2          2   20283  \n",
       "\n",
       "[4661107 rows x 13 columns]"
      ]
     },
     "execution_count": 124,
     "metadata": {},
     "output_type": "execute_result"
    }
   ],
   "source": [
    "data = pd.concat([full_data, df], axis=1)\n",
    "data"
   ]
  },
  {
   "cell_type": "code",
   "execution_count": 126,
   "id": "895ad124-d4e3-40a4-9416-96e8b899ccdf",
   "metadata": {
    "tags": []
   },
   "outputs": [
    {
     "data": {
      "text/plain": [
       "53643980"
      ]
     },
     "execution_count": 126,
     "metadata": {},
     "output_type": "execute_result"
    }
   ],
   "source": [
    "data = data[(data['age'] < 75) & (data['region_id'] != -1) & (data['referer'] != '')]\n",
    "data.size"
   ]
  },
  {
   "cell_type": "code",
   "execution_count": 33,
   "id": "f5e783bd-70f8-4da0-92d8-6f3fb69ffb4c",
   "metadata": {
    "tags": []
   },
   "outputs": [
    {
     "ename": "SyntaxError",
     "evalue": "invalid syntax (2332430140.py, line 1)",
     "output_type": "error",
     "traceback": [
      "\u001b[0;36m  Cell \u001b[0;32mIn[33], line 1\u001b[0;36m\u001b[0m\n\u001b[0;31m    pip install pyyaml ua-parser user-agents\u001b[0m\n\u001b[0m        ^\u001b[0m\n\u001b[0;31mSyntaxError\u001b[0m\u001b[0;31m:\u001b[0m invalid syntax\n"
     ]
    }
   ],
   "source": [
    "pip install pyyaml ua-parser user-agents"
   ]
  },
  {
   "cell_type": "code",
   "execution_count": 1,
   "id": "47a44193-2a8c-41cc-b4fa-ed09eb787d1f",
   "metadata": {
    "tags": []
   },
   "outputs": [],
   "source": [
    "from user_agents import parse"
   ]
  },
  {
   "cell_type": "code",
   "execution_count": 18,
   "id": "afad6753-c8b2-41f3-8911-fd248b95976d",
   "metadata": {
    "tags": []
   },
   "outputs": [
    {
     "name": "stdout",
     "output_type": "stream",
     "text": [
      "Defaulting to user installation because normal site-packages is not writeable\n",
      "Collecting catboost\n",
      "  Downloading catboost-1.2.5-cp39-cp39-manylinux2014_x86_64.whl (98.2 MB)\n",
      "     |████████████████████████████████| 98.2 MB 38.1 MB/s            \n",
      "\u001b[?25hCollecting graphviz\n",
      "  Downloading graphviz-0.20.3-py3-none-any.whl (47 kB)\n",
      "     |████████████████████████████████| 47 kB 4.5 MB/s             \n",
      "\u001b[?25hRequirement already satisfied: numpy>=1.16.0 in /opt/tljh/user/lib/python3.9/site-packages (from catboost) (1.26.4)\n",
      "Requirement already satisfied: plotly in /opt/tljh/user/lib/python3.9/site-packages (from catboost) (5.11.0)\n",
      "Requirement already satisfied: scipy in /opt/tljh/user/lib/python3.9/site-packages (from catboost) (1.12.0)\n",
      "Requirement already satisfied: six in /opt/tljh/user/lib/python3.9/site-packages (from catboost) (1.16.0)\n",
      "Requirement already satisfied: matplotlib in /opt/tljh/user/lib/python3.9/site-packages (from catboost) (3.6.2)\n",
      "Requirement already satisfied: pandas>=0.24 in /opt/tljh/user/lib/python3.9/site-packages (from catboost) (1.5.0)\n",
      "Requirement already satisfied: python-dateutil>=2.8.1 in /opt/tljh/user/lib/python3.9/site-packages (from pandas>=0.24->catboost) (2.9.0.post0)\n",
      "Requirement already satisfied: pytz>=2020.1 in /opt/tljh/user/lib/python3.9/site-packages (from pandas>=0.24->catboost) (2023.3)\n",
      "Requirement already satisfied: kiwisolver>=1.0.1 in /opt/tljh/user/lib/python3.9/site-packages (from matplotlib->catboost) (1.4.5)\n",
      "Requirement already satisfied: fonttools>=4.22.0 in /opt/tljh/user/lib/python3.9/site-packages (from matplotlib->catboost) (4.49.0)\n",
      "Requirement already satisfied: pillow>=6.2.0 in /opt/tljh/user/lib/python3.9/site-packages (from matplotlib->catboost) (10.2.0)\n",
      "Requirement already satisfied: pyparsing>=2.2.1 in /opt/tljh/user/lib/python3.9/site-packages (from matplotlib->catboost) (3.1.2)\n",
      "Requirement already satisfied: contourpy>=1.0.1 in /opt/tljh/user/lib/python3.9/site-packages (from matplotlib->catboost) (1.2.0)\n",
      "Requirement already satisfied: cycler>=0.10 in /opt/tljh/user/lib/python3.9/site-packages (from matplotlib->catboost) (0.12.1)\n",
      "Requirement already satisfied: packaging>=20.0 in /opt/tljh/user/lib/python3.9/site-packages (from matplotlib->catboost) (22.0)\n",
      "Requirement already satisfied: tenacity>=6.2.0 in /opt/tljh/user/lib/python3.9/site-packages (from plotly->catboost) (8.2.3)\n",
      "Installing collected packages: graphviz, catboost\n",
      "Successfully installed catboost-1.2.5 graphviz-0.20.3\n",
      "Note: you may need to restart the kernel to use updated packages.\n"
     ]
    }
   ],
   "source": [
    "pip install catboost"
   ]
  },
  {
   "cell_type": "code",
   "execution_count": 127,
   "id": "e67004c7-dda9-4252-a067-6bf37a050a69",
   "metadata": {},
   "outputs": [
    {
     "data": {
      "text/html": [
       "<div>\n",
       "<style scoped>\n",
       "    .dataframe tbody tr th:only-of-type {\n",
       "        vertical-align: middle;\n",
       "    }\n",
       "\n",
       "    .dataframe tbody tr th {\n",
       "        vertical-align: top;\n",
       "    }\n",
       "\n",
       "    .dataframe thead th {\n",
       "        text-align: right;\n",
       "    }\n",
       "</style>\n",
       "<table border=\"1\" class=\"dataframe\">\n",
       "  <thead>\n",
       "    <tr style=\"text-align: right;\">\n",
       "      <th></th>\n",
       "      <th>timestamp</th>\n",
       "      <th>geo_id</th>\n",
       "      <th>user_id</th>\n",
       "      <th>region_id</th>\n",
       "      <th>country_id</th>\n",
       "      <th>browser_id</th>\n",
       "      <th>os_id</th>\n",
       "      <th>device_id</th>\n",
       "      <th>ref_id</th>\n",
       "    </tr>\n",
       "  </thead>\n",
       "  <tbody>\n",
       "    <tr>\n",
       "      <th>3</th>\n",
       "      <td>1711988377</td>\n",
       "      <td>2540</td>\n",
       "      <td>4005154</td>\n",
       "      <td>135</td>\n",
       "      <td>199</td>\n",
       "      <td>1</td>\n",
       "      <td>1</td>\n",
       "      <td>1</td>\n",
       "      <td>3</td>\n",
       "    </tr>\n",
       "    <tr>\n",
       "      <th>4</th>\n",
       "      <td>1711954815</td>\n",
       "      <td>2540</td>\n",
       "      <td>16503401</td>\n",
       "      <td>135</td>\n",
       "      <td>199</td>\n",
       "      <td>2</td>\n",
       "      <td>2</td>\n",
       "      <td>2</td>\n",
       "      <td>4</td>\n",
       "    </tr>\n",
       "    <tr>\n",
       "      <th>5</th>\n",
       "      <td>1712148736</td>\n",
       "      <td>2540</td>\n",
       "      <td>457276</td>\n",
       "      <td>135</td>\n",
       "      <td>199</td>\n",
       "      <td>3</td>\n",
       "      <td>3</td>\n",
       "      <td>3</td>\n",
       "      <td>5</td>\n",
       "    </tr>\n",
       "    <tr>\n",
       "      <th>9</th>\n",
       "      <td>1712152946</td>\n",
       "      <td>2540</td>\n",
       "      <td>7571719</td>\n",
       "      <td>135</td>\n",
       "      <td>199</td>\n",
       "      <td>4</td>\n",
       "      <td>2</td>\n",
       "      <td>4</td>\n",
       "      <td>4</td>\n",
       "    </tr>\n",
       "    <tr>\n",
       "      <th>12</th>\n",
       "      <td>1712114591</td>\n",
       "      <td>2540</td>\n",
       "      <td>15972555</td>\n",
       "      <td>135</td>\n",
       "      <td>199</td>\n",
       "      <td>6</td>\n",
       "      <td>4</td>\n",
       "      <td>5</td>\n",
       "      <td>11</td>\n",
       "    </tr>\n",
       "    <tr>\n",
       "      <th>...</th>\n",
       "      <td>...</td>\n",
       "      <td>...</td>\n",
       "      <td>...</td>\n",
       "      <td>...</td>\n",
       "      <td>...</td>\n",
       "      <td>...</td>\n",
       "      <td>...</td>\n",
       "      <td>...</td>\n",
       "      <td>...</td>\n",
       "    </tr>\n",
       "    <tr>\n",
       "      <th>4661098</th>\n",
       "      <td>1712072394</td>\n",
       "      <td>5179</td>\n",
       "      <td>11131354</td>\n",
       "      <td>19</td>\n",
       "      <td>40</td>\n",
       "      <td>4</td>\n",
       "      <td>3</td>\n",
       "      <td>3</td>\n",
       "      <td>33294</td>\n",
       "    </tr>\n",
       "    <tr>\n",
       "      <th>4661101</th>\n",
       "      <td>1712125366</td>\n",
       "      <td>1045</td>\n",
       "      <td>8953872</td>\n",
       "      <td>271</td>\n",
       "      <td>40</td>\n",
       "      <td>64</td>\n",
       "      <td>4</td>\n",
       "      <td>143</td>\n",
       "      <td>40</td>\n",
       "    </tr>\n",
       "    <tr>\n",
       "      <th>4661102</th>\n",
       "      <td>1712123734</td>\n",
       "      <td>1045</td>\n",
       "      <td>8953872</td>\n",
       "      <td>271</td>\n",
       "      <td>40</td>\n",
       "      <td>64</td>\n",
       "      <td>4</td>\n",
       "      <td>143</td>\n",
       "      <td>40</td>\n",
       "    </tr>\n",
       "    <tr>\n",
       "      <th>4661103</th>\n",
       "      <td>1711951088</td>\n",
       "      <td>1045</td>\n",
       "      <td>8953872</td>\n",
       "      <td>271</td>\n",
       "      <td>40</td>\n",
       "      <td>64</td>\n",
       "      <td>4</td>\n",
       "      <td>143</td>\n",
       "      <td>40</td>\n",
       "    </tr>\n",
       "    <tr>\n",
       "      <th>4661104</th>\n",
       "      <td>1712028514</td>\n",
       "      <td>40</td>\n",
       "      <td>7184373</td>\n",
       "      <td>140</td>\n",
       "      <td>40</td>\n",
       "      <td>3</td>\n",
       "      <td>3</td>\n",
       "      <td>3</td>\n",
       "      <td>39</td>\n",
       "    </tr>\n",
       "  </tbody>\n",
       "</table>\n",
       "<p>4126460 rows × 9 columns</p>\n",
       "</div>"
      ],
      "text/plain": [
       "          timestamp  geo_id   user_id  region_id  country_id  browser_id  \\\n",
       "3        1711988377    2540   4005154        135         199           1   \n",
       "4        1711954815    2540  16503401        135         199           2   \n",
       "5        1712148736    2540    457276        135         199           3   \n",
       "9        1712152946    2540   7571719        135         199           4   \n",
       "12       1712114591    2540  15972555        135         199           6   \n",
       "...             ...     ...       ...        ...         ...         ...   \n",
       "4661098  1712072394    5179  11131354         19          40           4   \n",
       "4661101  1712125366    1045   8953872        271          40          64   \n",
       "4661102  1712123734    1045   8953872        271          40          64   \n",
       "4661103  1711951088    1045   8953872        271          40          64   \n",
       "4661104  1712028514      40   7184373        140          40           3   \n",
       "\n",
       "         os_id  device_id  ref_id  \n",
       "3            1          1       3  \n",
       "4            2          2       4  \n",
       "5            3          3       5  \n",
       "9            2          4       4  \n",
       "12           4          5      11  \n",
       "...        ...        ...     ...  \n",
       "4661098      3          3   33294  \n",
       "4661101      4        143      40  \n",
       "4661102      4        143      40  \n",
       "4661103      4        143      40  \n",
       "4661104      3          3      39  \n",
       "\n",
       "[4126460 rows x 9 columns]"
      ]
     },
     "execution_count": 127,
     "metadata": {},
     "output_type": "execute_result"
    }
   ],
   "source": [
    "\n",
    "# Делаем датасет из параметров и целевой переменной\n",
    "# Выкидываем из параметров, по которым будем обучать модель столбцы со строками и с целевыми переменными\n",
    "X = data.loc[:, ~data.columns.isin(['gender', 'age', 'user_agent', 'referer'])]\n",
    "# Оставляем только столбец с одной целевой переменной - полом\n",
    "y = data.loc[:, data.columns.isin(['gender'])]\n",
    "X"
   ]
  },
  {
   "cell_type": "code",
   "execution_count": 135,
   "id": "f58b95a2-c039-47f1-8e5c-96acfa2300db",
   "metadata": {
    "tags": []
   },
   "outputs": [],
   "source": [
    "# разбиваем датасет на обучающую и тестовые выборки\n",
    "\n",
    "from sklearn.model_selection import train_test_split\n",
    "\n",
    "X_train, X_test, y_train, y_test = train_test_split(X, y, test_size=0.2, random_state=42, stratify=y)"
   ]
  },
  {
   "cell_type": "code",
   "execution_count": 129,
   "id": "2b251dda-8497-4e0a-9110-fd190db5421b",
   "metadata": {
    "tags": []
   },
   "outputs": [],
   "source": [
    "from catboost import CatBoostClassifier\n",
    "cat = CatBoostClassifier()\n"
   ]
  },
  {
   "cell_type": "code",
   "execution_count": 136,
   "id": "3e23b4cf-32a9-4520-ae6c-6eabd2ee72da",
   "metadata": {
    "tags": []
   },
   "outputs": [
    {
     "name": "stdout",
     "output_type": "stream",
     "text": [
      "Learning rate set to 0.327646\n",
      "0:\tlearn: 0.6885613\ttotal: 113ms\tremaining: 1m 52s\n",
      "100:\tlearn: 0.6706992\ttotal: 11.3s\tremaining: 1m 40s\n",
      "200:\tlearn: 0.6677768\ttotal: 22.8s\tremaining: 1m 30s\n",
      "300:\tlearn: 0.6662581\ttotal: 34.2s\tremaining: 1m 19s\n",
      "400:\tlearn: 0.6651572\ttotal: 45.7s\tremaining: 1m 8s\n",
      "500:\tlearn: 0.6640454\ttotal: 57s\tremaining: 56.7s\n",
      "600:\tlearn: 0.6631667\ttotal: 1m 8s\tremaining: 45.3s\n",
      "700:\tlearn: 0.6622900\ttotal: 1m 20s\tremaining: 34.1s\n",
      "800:\tlearn: 0.6615292\ttotal: 1m 29s\tremaining: 22.2s\n",
      "900:\tlearn: 0.6608770\ttotal: 1m 38s\tremaining: 10.9s\n",
      "999:\tlearn: 0.6601866\ttotal: 1m 48s\tremaining: 0us\n"
     ]
    },
    {
     "data": {
      "text/plain": [
       "<catboost.core.CatBoostClassifier at 0x7f77ff0af8b0>"
      ]
     },
     "execution_count": 136,
     "metadata": {},
     "output_type": "execute_result"
    }
   ],
   "source": [
    "cat.fit(X_train,y_train, verbose=100)"
   ]
  },
  {
   "cell_type": "code",
   "execution_count": 137,
   "id": "272a1ca2-cf60-456c-9199-440f53cedadf",
   "metadata": {
    "tags": []
   },
   "outputs": [
    {
     "data": {
      "text/plain": [
       "0.5932506312917125"
      ]
     },
     "execution_count": 137,
     "metadata": {},
     "output_type": "execute_result"
    }
   ],
   "source": [
    "from sklearn.metrics import accuracy_score\n",
    "\n",
    "accuracy_score(y_test, cat.predict(X_test))"
   ]
  },
  {
   "cell_type": "code",
   "execution_count": 101,
   "id": "bb840a47-be8c-4886-839e-b0e0a0ba1147",
   "metadata": {
    "tags": []
   },
   "outputs": [],
   "source": [
    "from catboost import CatBoostRegressor\n",
    "cat_reg = CatBoostRegressor()"
   ]
  },
  {
   "cell_type": "code",
   "execution_count": 132,
   "id": "af7790a3-7d3f-4d49-bf42-760683a6be1e",
   "metadata": {
    "tags": []
   },
   "outputs": [],
   "source": [
    "# Делаем датасет из параметров и целевой переменной\n",
    "# Выкидываем из параметров, по которым будем обучать модель столбцы со строками и с целевыми переменными\n",
    "X1 = data.loc[:, ~data.columns.isin(['gender', 'age', 'user_agent', 'referer'])]\n",
    "# Оставляем только столбец с одной целевой переменной - полом\n",
    "y1 = data.loc[:, data.columns.isin(['age'])]\n",
    "\n",
    "from sklearn.model_selection import train_test_split\n",
    "\n",
    "X1_train, X1_test, y1_train, y1_test = train_test_split(X1, y1, test_size=0.2, random_state=42)"
   ]
  },
  {
   "cell_type": "code",
   "execution_count": 133,
   "id": "dc4c5200-8de1-4e68-9891-9d83ef0bbc7a",
   "metadata": {
    "tags": []
   },
   "outputs": [
    {
     "name": "stdout",
     "output_type": "stream",
     "text": [
      "Learning rate set to 0.147275\n",
      "0:\tlearn: 13.6934298\ttotal: 83.6ms\tremaining: 1m 23s\n",
      "100:\tlearn: 13.0722546\ttotal: 6.68s\tremaining: 59.5s\n",
      "200:\tlearn: 13.0106741\ttotal: 13.3s\tremaining: 53s\n",
      "300:\tlearn: 12.9787240\ttotal: 19.7s\tremaining: 45.8s\n",
      "400:\tlearn: 12.9583738\ttotal: 26s\tremaining: 38.9s\n",
      "500:\tlearn: 12.9418020\ttotal: 32.4s\tremaining: 32.3s\n",
      "600:\tlearn: 12.9287913\ttotal: 38.8s\tremaining: 25.8s\n",
      "700:\tlearn: 12.9176308\ttotal: 45.2s\tremaining: 19.3s\n",
      "800:\tlearn: 12.9077172\ttotal: 51.3s\tremaining: 12.8s\n",
      "900:\tlearn: 12.8994065\ttotal: 57.5s\tremaining: 6.31s\n",
      "999:\tlearn: 12.8917719\ttotal: 1m 3s\tremaining: 0us\n"
     ]
    },
    {
     "data": {
      "text/plain": [
       "<catboost.core.CatBoostRegressor at 0x7f77d66795b0>"
      ]
     },
     "execution_count": 133,
     "metadata": {},
     "output_type": "execute_result"
    }
   ],
   "source": [
    "cat_reg.fit(X1_train,y1_train, verbose=100)"
   ]
  },
  {
   "cell_type": "code",
   "execution_count": 134,
   "id": "ce6a8c65-e997-404f-bdf1-f8302f9af772",
   "metadata": {
    "tags": []
   },
   "outputs": [
    {
     "data": {
      "text/plain": [
       "10.432765602554367"
      ]
     },
     "execution_count": 134,
     "metadata": {},
     "output_type": "execute_result"
    }
   ],
   "source": [
    "from sklearn.metrics import mean_absolute_error\n",
    "\n",
    "mean_absolute_error(y1_test, cat_reg.predict(X1_test))"
   ]
  },
  {
   "cell_type": "markdown",
   "id": "49f8fb57-cb17-4045-8568-5bbcead534f3",
   "metadata": {},
   "source": [
    "<h1> Тестируем на контрольных данных <h1>"
   ]
  },
  {
   "cell_type": "code",
   "execution_count": 138,
   "id": "86c646f2-5a86-40eb-831f-6eea644060cd",
   "metadata": {
    "tags": []
   },
   "outputs": [
    {
     "data": {
      "text/html": [
       "<div>\n",
       "<style scoped>\n",
       "    .dataframe tbody tr th:only-of-type {\n",
       "        vertical-align: middle;\n",
       "    }\n",
       "\n",
       "    .dataframe tbody tr th {\n",
       "        vertical-align: top;\n",
       "    }\n",
       "\n",
       "    .dataframe thead th {\n",
       "        text-align: right;\n",
       "    }\n",
       "</style>\n",
       "<table border=\"1\" class=\"dataframe\">\n",
       "  <thead>\n",
       "    <tr style=\"text-align: right;\">\n",
       "      <th></th>\n",
       "      <th>user_id</th>\n",
       "      <th>gender</th>\n",
       "      <th>age</th>\n",
       "    </tr>\n",
       "  </thead>\n",
       "  <tbody>\n",
       "    <tr>\n",
       "      <th>0</th>\n",
       "      <td>8</td>\n",
       "      <td>0</td>\n",
       "      <td>48</td>\n",
       "    </tr>\n",
       "    <tr>\n",
       "      <th>1</th>\n",
       "      <td>11</td>\n",
       "      <td>0</td>\n",
       "      <td>60</td>\n",
       "    </tr>\n",
       "    <tr>\n",
       "      <th>2</th>\n",
       "      <td>27</td>\n",
       "      <td>0</td>\n",
       "      <td>34</td>\n",
       "    </tr>\n",
       "    <tr>\n",
       "      <th>3</th>\n",
       "      <td>29</td>\n",
       "      <td>0</td>\n",
       "      <td>66</td>\n",
       "    </tr>\n",
       "    <tr>\n",
       "      <th>4</th>\n",
       "      <td>34</td>\n",
       "      <td>1</td>\n",
       "      <td>31</td>\n",
       "    </tr>\n",
       "    <tr>\n",
       "      <th>...</th>\n",
       "      <td>...</td>\n",
       "      <td>...</td>\n",
       "      <td>...</td>\n",
       "    </tr>\n",
       "    <tr>\n",
       "      <th>749995</th>\n",
       "      <td>17492636</td>\n",
       "      <td>0</td>\n",
       "      <td>63</td>\n",
       "    </tr>\n",
       "    <tr>\n",
       "      <th>749996</th>\n",
       "      <td>17492637</td>\n",
       "      <td>0</td>\n",
       "      <td>18</td>\n",
       "    </tr>\n",
       "    <tr>\n",
       "      <th>749997</th>\n",
       "      <td>17492651</td>\n",
       "      <td>1</td>\n",
       "      <td>48</td>\n",
       "    </tr>\n",
       "    <tr>\n",
       "      <th>749998</th>\n",
       "      <td>17492654</td>\n",
       "      <td>0</td>\n",
       "      <td>35</td>\n",
       "    </tr>\n",
       "    <tr>\n",
       "      <th>749999</th>\n",
       "      <td>17492657</td>\n",
       "      <td>0</td>\n",
       "      <td>33</td>\n",
       "    </tr>\n",
       "  </tbody>\n",
       "</table>\n",
       "<p>750000 rows × 3 columns</p>\n",
       "</div>"
      ],
      "text/plain": [
       "         user_id  gender  age\n",
       "0              8       0   48\n",
       "1             11       0   60\n",
       "2             27       0   34\n",
       "3             29       0   66\n",
       "4             34       1   31\n",
       "...          ...     ...  ...\n",
       "749995  17492636       0   63\n",
       "749996  17492637       0   18\n",
       "749997  17492651       1   48\n",
       "749998  17492654       0   35\n",
       "749999  17492657       0   33\n",
       "\n",
       "[750000 rows x 3 columns]"
      ]
     },
     "execution_count": 138,
     "metadata": {},
     "output_type": "execute_result"
    }
   ],
   "source": [
    "test = pd.read_csv('test_users.csv')\n",
    "test"
   ]
  },
  {
   "cell_type": "code",
   "execution_count": null,
   "id": "a8570110-a60b-4ddc-98a9-ac0f27e8e991",
   "metadata": {},
   "outputs": [],
   "source": [
    "from sklearn.metrics import accuracy_score\n",
    "\n",
    "accuracy_score(y_test, cat.predict(X_test))"
   ]
  },
  {
   "cell_type": "code",
   "execution_count": null,
   "id": "cde410a6-d4d0-431b-ad74-8c1ba7366e2f",
   "metadata": {},
   "outputs": [],
   "source": [
    "from sklearn.metrics import mean_absolute_error\n",
    "\n",
    "mean_absolute_error(y1_test, cat_reg.predict(X1_test))"
   ]
  },
  {
   "cell_type": "markdown",
   "id": "20dfa739-f610-4ed0-85ed-c51e5257c2c0",
   "metadata": {},
   "source": [
    "## Убираем за собой\n",
    "\n",
    "В конце работы можем размонтировать директорию:"
   ]
  },
  {
   "cell_type": "code",
   "execution_count": 19,
   "id": "1b0e539a-3fcb-4eaf-a692-0979e7ba2a63",
   "metadata": {
    "tags": []
   },
   "outputs": [
    {
     "name": "stdout",
     "output_type": "stream",
     "text": [
      "umount: /home/datadisk/jupyter-vkhack/vkhack/gender_prediction/mnt: not mounted.\n"
     ]
    }
   ],
   "source": [
    "!umount mnt"
   ]
  }
 ],
 "metadata": {
  "kernelspec": {
   "display_name": "Python 3 (ipykernel)",
   "language": "python",
   "name": "python3"
  },
  "language_info": {
   "codemirror_mode": {
    "name": "ipython",
    "version": 3
   },
   "file_extension": ".py",
   "mimetype": "text/x-python",
   "name": "python",
   "nbconvert_exporter": "python",
   "pygments_lexer": "ipython3",
   "version": "3.9.7"
  }
 },
 "nbformat": 4,
 "nbformat_minor": 5
}
